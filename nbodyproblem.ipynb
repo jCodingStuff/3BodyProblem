{
 "cells": [
  {
   "cell_type": "markdown",
   "metadata": {},
   "source": [
    "# The N-Body Problem#\n",
    "\n",
    "by Julián Ramón Marrades Furquet <br>\n",
    "Department of Data Science and Knowledge Engineering <br>\n",
    "Maastricht University\n",
    "\n",
    "## What is the (N) Three-Body Problem?##\n",
    "According to Wikipedia, in physics and classical mechanics, the three-body problem is the problem of taking the initial positions and velocities (or momenta) of three point masses and solving for their subsequent motion according to Newton's laws of motion and Newton's law of universal gravitation. <br>\n",
    "The three-body problem is a special case of the n-body problem. Unlike two-body problems, no closed-form solution exists for all sets of initial conditions, and numerical methods are generally required.\n",
    "\n",
    "## Formal definition ##\n",
    "Our startpoint is the **Newton's law of universal gravitation**, which states that 2 bodies with masses $m_1$ and $m_2$ attract each other with a force:\n",
    "\n",
    "$$F = -G \\cdot \\frac{m_1 \\cdot m_2}{\\left| \\vec{r} \\right| ^{\\ 2}}$$\n",
    "\n",
    "where $\\vec{r}$ is a vector connection their center of mass, and $G$ is the gravitational constant, which we normalize to a value of $1$.\n",
    "\n",
    "Now, we are interested in the acceleration which a body suffers when it is attracted by other masses, because it is the second derivative of its displacement. Therefore, we can use it to describe our system. <br>\n",
    "For instance, we can state the acceleration of the body with $m_1$ when it is attracted by $m_2$ employing Newton's equations:\n",
    "\n",
    "$$a_1 = \\frac{F_1}{m_1} = -G \\cdot \\frac{m_2}{\\left| \\vec{r} \\right| ^{\\ 2}}$$\n",
    "\n",
    "Since we are normalizing $G$, we can simplify the equation to:\n",
    "\n",
    "$$a_1 = - \\frac{m_2}{\\left| \\vec{r} \\right| ^ {\\ 2}}$$\n",
    "\n",
    "If $m_1$ was part of a system of $n$ bodies, we could perform vector sum to express its overall acceleration caused by the attraction of the other $n-1$ masses:\n",
    "\n",
    "$$a_1 = - \\frac{m_2}{\\left| \\vec{r}_{12} \\right| ^{\\ 2}} - \\frac{m_3}{\\left| \\vec{r}_{13} \\right| ^{\\ 2}} - \\dots - \\frac{m_n}{\\left| \\vec{r}_{1n} \\right| ^{\\ 2}}$$\n",
    "\n",
    "## Building the system ##\n",
    "To build our system we will perform two simple steps:\n",
    "1. Obtain the modulus of the acceleration that a body suffers\n",
    "2. Point it towards the correct direction (i.e. vectorize it)\n",
    "\n",
    "#### 1. Obtaining the modulus ####\n",
    "\n",
    "We can define the modulus of the acceleration that $m_1$ suffers when attracted by $m_2$ as:\n",
    "\n",
    "$$a_1 = - \\frac{m_2}{\\left| \\vec{r}_{12} \\right| ^2}$$\n",
    "\n",
    "#### 2. Vectorization of the modulus ####\n",
    "\n",
    "Due to the negative sign of the previous equation, we need a unit vector pointing from $m_2$ to $m_1$, so that it is inverted and scaled afterwards. We can do it as follows:\n",
    "\n",
    "$$\\vec{v} = \\frac{\\vec{r}_1 - \\vec{r}_2}{\\vert \\vec{r}_1 - \\vec{r}_2 \\vert}$$\n",
    "\n",
    "Now it is time to bring the two previous equations together.\n",
    "\n",
    "First, let's redefine $\\left| \\vec{r}_{12} \\right|^2$:\n",
    "\n",
    "$$\\vec{r}_{12} = \\vec{r}_1 - \\vec{r}_2 \\rightarrow \\left| \\vec{r}_{12} \\right| ^2 = \\vert \\vec{r}_1 - \\vec{p}_2 \\vert ^ 2$$\n",
    "\n",
    "Then, we bring the equations together and rearrange the terms:\n",
    "\n",
    "$$\\vec{a_1} = - \\frac{m_2}{\\vert p_1 - p_2 \\vert^2} \\frac{p_1 - p_2}{\\vert p_1 - p_2 \\vert} = - m_2 \\frac{p_1 - p_2}{\\vert p_1 - p_2 \\vert^3}$$\n",
    "\n",
    "Generalizing, if $m_1$ was attracted by more bodies:\n",
    "\n",
    "$$\\vec{a_1} = - m_2 \\frac{\\vec{r}_1 - \\vec{r}_2}{\\vert \\vec{r}_1 - \\vec{r}_2 \\vert^3} - m_3 \\frac{\\vec{r}_1 - \\vec{r}_3}{\\vert \\vec{r}_1 - \\vec{r}_3 \\vert^3} - \\dots$$\n",
    "\n",
    "However, we will limit ourselves to 3 masses (by now). Hence, since the acceleration is the second derivative of the displacement (or position), we can generate a system of 3 (9 due to 3D vectors) second order differential equations to describe the interactions of 3 bodies:\n",
    "\n",
    "$$\\ddot{r}_1 = - m_2 \\frac{r_1 - r_2}{\\vert r_1 - r_2 \\vert^3} - m_3 \\frac{r_1 - r_3}{\\vert r_1 - r_3 \\vert^3}$$\n",
    "\n",
    "$$\\ddot{r}_2 = - m_1 \\frac{r_2 - r_1}{\\vert r_2 - r_1 \\vert^3} - m_3 \\frac{r_2 - r_3}{\\vert r_2 - r_3 \\vert^3}$$\n",
    "\n",
    "$$\\ddot{r}_3 = - m_1 \\frac{r_3 - r_1}{\\vert r_3 - r_1 \\vert^3} - m_2 \\frac{r_3 - r_2}{\\vert r_3 - r_2 \\vert^3}$$\n",
    "\n",
    "Note that the vector arrows of $\\vec{r}$ is ommited for simplification.\n",
    "\n",
    "## Implementation ##\n",
    "\n",
    "Since we are working with ODE solvers within the `scipy` library, we need to transform this into a system of 6 (18 due to 3D vectors) ordinary differential equations.\n",
    "\n",
    "We will use $y$ as our state vector such that\n",
    "$$y = [r_1, r_2, r_3, \\dot{r}_1, \\dot{r}_2, \\dot{r}_3]$$\n",
    "Hence,\n",
    "$$\\dot{y} = [\\dot{r}_1, \\dot{r}_2, \\dot{r}_3, \\ddot{r}_1, \\ddot{r}_2, \\ddot{r}_3]$$\n",
    "\n",
    "**Note:** every element of the vectors is a vector itself, representing the 3 spatial coordinates."
   ]
  },
  {
   "cell_type": "markdown",
   "metadata": {},
   "source": [
    "---\n",
    "Let's start by importing everything we will need during the process"
   ]
  },
  {
   "cell_type": "code",
   "execution_count": 1,
   "metadata": {},
   "outputs": [],
   "source": [
    "from scipy.integrate import odeint\n",
    "import numpy as np\n",
    "import matplotlib\n",
    "import matplotlib.pyplot as plt\n",
    "from mpl_toolkits.mplot3d import Axes3D\n",
    "from matplotlib import animation\n",
    "%matplotlib notebook"
   ]
  },
  {
   "cell_type": "markdown",
   "metadata": {},
   "source": [
    "Now, we can define a function which returns $\\dot{y}$ given $y$"
   ]
  },
  {
   "cell_type": "code",
   "execution_count": 2,
   "metadata": {},
   "outputs": [],
   "source": [
    "def dydt(y, t, d, n, masses):\n",
    "    \"\"\"Returns the derivative of the state vector for the n-body problem.\n",
    "    \n",
    "    Keyword arguments:\n",
    "    y -- state vector (flattened, so it includes d*2n elements --> components of position and velocity)\n",
    "    t -- actual time of the system\n",
    "    d -- number of spatial dimensions of the system\n",
    "    n -- number of masses in the system\n",
    "    masses -- arraylike containing the masses of the n bodies\n",
    "    \"\"\"\n",
    "    \n",
    "    # Define velocities for masses\n",
    "    velocities = y[d*n:]\n",
    "    \n",
    "    # Define acceleration fo|r masses\n",
    "    positions = np.reshape(y[:d*n], (n, d))\n",
    "    accelerations = np.zeros((n, d))\n",
    "    for i, acc in enumerate(accelerations):\n",
    "        for j, pos in enumerate(positions):\n",
    "            if i != j:\n",
    "                diff_vector = positions[i] - pos\n",
    "                acc -= masses[j] * (diff_vector / (np.linalg.norm(diff_vector)**3)) \n",
    "    \n",
    "    # Return the derivative of the state vector\n",
    "    return np.concatenate((velocities, accelerations.flatten()))"
   ]
  },
  {
   "cell_type": "markdown",
   "metadata": {},
   "source": [
    "Define `y0`, `t` and `args` for `odeint`"
   ]
  },
  {
   "cell_type": "code",
   "execution_count": 23,
   "metadata": {},
   "outputs": [],
   "source": [
    "t = np.linspace(0, 400, num=1000)\n",
    "\n",
    "d, n = 3, 3\n",
    "masses = np.array([1.5, 2, 2.5])\n",
    "extra_args = (d, n, masses)\n",
    "\n",
    "y0 = np.array([[20, -5, -2], [-17, 2, 5], [5, 10, 20], [-0.05, 0, 0], [0.01, 0, 0], [0.01, -0.01, 0]]).flatten()"
   ]
  },
  {
   "cell_type": "code",
   "execution_count": 24,
   "metadata": {},
   "outputs": [],
   "source": [
    "y = odeint(dydt, y0, t, args=extra_args)"
   ]
  },
  {
   "cell_type": "code",
   "execution_count": null,
   "metadata": {
    "scrolled": false
   },
   "outputs": [],
   "source": [
    "fig = plt.figure(figsize=(7, 7))\n",
    "ax = fig.add_subplot(111, projection='3d')\n",
    "ax.set_xlim(-50, 50)\n",
    "ax.set_ylim(-30, 30)\n",
    "ax.set_zlim(-20, 20)\n",
    "\n",
    "planet_base_size = 3\n",
    "\n",
    "line1 = ax.plot([], [], [], '-', lw=0.5, color='r')[0]\n",
    "planet1 = ax.plot([], [], [], marker='o', color='r', markersize=masses[0]*planet_base_size)[0]\n",
    "line2 = ax.plot([], [], [], '-', lw=0.5, color='g')[0]\n",
    "planet2 = ax.plot([], [], [], marker='o', color='g', markersize=masses[1]*planet_base_size)[0]\n",
    "line3 = ax.plot([], [], [], '-', lw=0.5, color='b')[0]\n",
    "planet3 = ax.plot([], [], [], marker='o', color='b', markersize=masses[2]*planet_base_size)[0]\n",
    "lines = [line1, line2, line3, planet1, planet2, planet3]\n",
    "\n",
    "# Animation function\n",
    "def animate(i):\n",
    "    for index, line in enumerate(lines[:3]):\n",
    "        start_index = index*3\n",
    "        line.set_data(y[:i+1, start_index], y[:i+1, start_index+1])\n",
    "        line.set_3d_properties(y[:i+1, start_index+2])\n",
    "    for index, planet in enumerate(lines[3:]):\n",
    "        start_index = index*3\n",
    "        planet.set_data(y[i, start_index], y[i, start_index+1])\n",
    "        planet.set_3d_properties(y[i, start_index+2])\n",
    "    return lines\n",
    "    \n",
    "anim = animation.FuncAnimation(fig, animate, frames=len(y), interval=8, blit=True)\n",
    "\n",
    "plt.show()\n",
    "\n",
    "#Writer = animation.writers['ffmpeg']\n",
    "#writer = Writer(fps=30, metadata=dict(artist='Me'), bitrate=1800)\n",
    "#anim.save('lines.mp4', writer=writer)"
   ]
  },
  {
   "cell_type": "code",
   "execution_count": null,
   "metadata": {},
   "outputs": [],
   "source": []
  }
 ],
 "metadata": {
  "kernelspec": {
   "display_name": "Python 3",
   "language": "python",
   "name": "python3"
  },
  "language_info": {
   "codemirror_mode": {
    "name": "ipython",
    "version": 3
   },
   "file_extension": ".py",
   "mimetype": "text/x-python",
   "name": "python",
   "nbconvert_exporter": "python",
   "pygments_lexer": "ipython3",
   "version": "3.7.5"
  }
 },
 "nbformat": 4,
 "nbformat_minor": 2
}
