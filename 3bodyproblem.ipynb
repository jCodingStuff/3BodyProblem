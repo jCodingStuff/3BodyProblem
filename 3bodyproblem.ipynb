{
 "cells": [
  {
   "cell_type": "markdown",
   "metadata": {},
   "source": [
    "# The Three-Body Problem - 2D #\n",
    "\n",
    "by Julián Ramón Marrades Furquet <br>\n",
    "Department of Data Science and Knowledge Engineering <br>\n",
    "Maastricht University\n",
    "\n",
    "## What is the Three-Body Problem?##\n",
    "According to Wikipedia, in physics and classical mechanics, the three-body problem is the problem of taking the initial positions and velocities (or momenta) of three point masses and solving for their subsequent motion according to Newton's laws of motion and Newton's law of universal gravitation. <br>\n",
    "The three-body problem is a special case of the n-body problem. Unlike two-body problems, no closed-form solution exists for all sets of initial conditions, and numerical methods are generally required.\n",
    "\n",
    "## Formal definition ##\n",
    "Our startpoint is the **Newton's law of universal gravitation**, which states that 2 bodies with masses $m_1$ and $m_2$ attract each other with a force:\n",
    "\n",
    "$$\\vec{F} = -G \\cdot \\frac{m_1 \\cdot m_2}{\\vec{r}^{\\ 2}}$$\n",
    "\n",
    "where $\\vec{r}$ is the distance between the center of their masses and $G$ is the gravitational constant, which we will take as $G=1$ for simplicity.\n",
    "\n",
    "Now, we are interested in the acceleration which a body suffers when it is attracted by other masses, because it is the second derivative of its displacement. Therefore, we can use it to describe our system. <br>\n",
    "For instance, we can state the acceleration of the body with $m_1$ when it is attracted by $m_2$ employing Newton's equations:\n",
    "\n",
    "$$\\vec{a}_1 = \\frac{\\vec{F}_1}{m_1} = -G \\cdot \\frac{m_2}{\\vec{r}^{\\ 2}}$$\n",
    "\n",
    "Since we are normalizing $G$ we can simplify the equation to:\n",
    "\n",
    "$$\\vec{a}_1 = - \\frac{m_2}{\\vec{r}^{\\ 2}}$$\n",
    "\n",
    "Since we are working in two dimensions, this system corresponds to 6 second order differential equations. Moreover, we are working with ODE solvers within the `scipy` library, so we need to transform this into a system of 12 ordinary differential equations.\n",
    "\n",
    "We will use $x$ as our state vector such that\n",
    "$$x = [r_1^x, r_1^y, \\dot{r}_1^x, \\dot{r}_1^y, r_2^x, r_2^y, \\dot{r}_2^x, \\dot{r}_2^y, r_3^x, r_3^y, \\dot{r}_3^x, \\dot{r}_3^y]$$\n",
    "Hence,\n",
    "$$\\dot{x} = [\\dot{r}_1^x, \\dot{r}_1^y, \\ddot{r}_1^x, \\ddot{r}_1^y, \\dot{r}_2^x, \\dot{r}_2^y, \\ddot{r}_2^x, \\ddot{r}_2^y, \\dot{r}_3^x, \\dot{r}_3^y, \\ddot{r}_3^x, \\ddot{r}_3^y]$$"
   ]
  },
  {
   "cell_type": "markdown",
   "metadata": {},
   "source": [
    "---\n",
    "Let's start by importing everything we will need during the process"
   ]
  },
  {
   "cell_type": "code",
   "execution_count": 1,
   "metadata": {},
   "outputs": [],
   "source": [
    "%matplotlib inline\n",
    "import numpy as np\n",
    "from scipy.integrate import odeint\n",
    "import matplotlib\n",
    "import matplotlib.pyplot as plt\n",
    "from matplotlib import animation"
   ]
  },
  {
   "cell_type": "markdown",
   "metadata": {},
   "source": [
    "Then, we need to define the masses and initial conditions of the bodies"
   ]
  },
  {
   "cell_type": "code",
   "execution_count": 1,
   "metadata": {},
   "outputs": [],
   "source": [
    "m1, m2, m3 = 1, 1, 1"
   ]
  },
  {
   "cell_type": "markdown",
   "metadata": {},
   "source": [
    "Now, we define the function `dx(x,t)`"
   ]
  },
  {
   "cell_type": "code",
   "execution_count": 2,
   "metadata": {},
   "outputs": [],
   "source": [
    "def dx(x, t):\n",
    "    \"\"\"This function computes the derivative of the state.\"\"\"\n",
    "    \n",
    "    # Rename variables for convenience\n",
    "    r1x, r1y, dr1x, dr1y = x[0], x[1], x[2], x[3]\n",
    "    r2x, r2y, dr2x, dr2y = x[4], x[5], x[6], x[7]\n",
    "    r3x, r3y, dr3x, dr3y = x[8], x[9], x[10], x[11]\n",
    "    \n",
    "    # Compute the second derivatives\n",
    "    ddr1x = 0\n",
    "    ddr1y = 0\n",
    "    ddr2x = 0\n",
    "    ddr2y = 0\n",
    "    ddr3x = 0\n",
    "    ddr3y = 0\n",
    "    \n",
    "    # Return the derivative\n",
    "    return [dr1x, dr1y, ddr1x, ddr1y, dr2x, dr2y, ddr2x, ddr2y, dr3x, dr3y, ddr3x, ddr3y]"
   ]
  }
 ],
 "metadata": {
  "kernelspec": {
   "display_name": "Python 3",
   "language": "python",
   "name": "python3"
  },
  "language_info": {
   "codemirror_mode": {
    "name": "ipython",
    "version": 3
   },
   "file_extension": ".py",
   "mimetype": "text/x-python",
   "name": "python",
   "nbconvert_exporter": "python",
   "pygments_lexer": "ipython3",
   "version": "3.7.3"
  }
 },
 "nbformat": 4,
 "nbformat_minor": 2
}
