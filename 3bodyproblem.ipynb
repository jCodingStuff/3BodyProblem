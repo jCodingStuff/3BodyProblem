{
 "cells": [
  {
   "cell_type": "markdown",
   "metadata": {},
   "source": [
    "# The Three-Body Problem - 2D #\n",
    "\n",
    "by Julián Ramón Marrades Furquet <br>\n",
    "Department of Data Science and Knowledge Engineering <br>\n",
    "Maastricht University\n",
    "\n",
    "## What is the Three-Body Problem##\n",
    "According to Wikipedia, in physics and classical mechanics, the three-body problem is the problem of taking the initial positions and velocities (or momenta) of three point masses and solving for their subsequent motion according to Newton's laws of motion and Newton's law of universal gravitation. <br>\n",
    "The three-body problem is a special case of the n-body problem. Unlike two-body problems, no closed-form solution exists for all sets of initial conditions, and numerical methods are generally required.\n",
    "\n",
    "## Formal definition ##\n",
    "We have 3 bodies with masses $m_i$ and a position in space $r_i = (x_i, y_i)$. In order to define our system, we rely on the following differential equations:\n",
    "\n",
    "$$\\ddot{r}_1 = - m_2 \\cdot \\frac{r_1 - r_2}{\\vert r_1 - r_2 \\vert ^ 2} -m_3 \\cdot \\frac{r_1 - r_3}{\\vert r_1 - r_3 \\vert ^ 2}$$\n",
    "\n",
    "$$\\ddot{r}_2 = - m_1 \\cdot \\frac{r_2 - r_1}{\\vert r_2 - r_1 \\vert ^ 2} -m_3 \\cdot \\frac{r_2 - r_3}{\\vert r_2 - r_3 \\vert ^ 2}$$\n",
    "\n",
    "$$\\ddot{r}_3 = - m_1 \\cdot \\frac{r_3 - r_1}{\\vert r_3 - r_1 \\vert ^ 2} -m_2 \\cdot \\frac{r_3 - r_2}{\\vert r_3 - r_2 \\vert ^ 2}$$\n",
    "\n",
    "Since we are working in two dimensions, this system corresponds to 6 second order differential equations. Moreover, we are working with ODE solvers within the ```scipy``` library, so we need to transform this into a system of 12 ordinary differential equations."
   ]
  },
  {
   "cell_type": "code",
   "execution_count": null,
   "metadata": {},
   "outputs": [],
   "source": []
  }
 ],
 "metadata": {
  "kernelspec": {
   "display_name": "Python 3",
   "language": "python",
   "name": "python3"
  },
  "language_info": {
   "codemirror_mode": {
    "name": "ipython",
    "version": 3
   },
   "file_extension": ".py",
   "mimetype": "text/x-python",
   "name": "python",
   "nbconvert_exporter": "python",
   "pygments_lexer": "ipython3",
   "version": "3.7.3"
  }
 },
 "nbformat": 4,
 "nbformat_minor": 2
}
